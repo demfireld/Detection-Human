{
 "cells": [
  {
   "cell_type": "code",
   "execution_count": 1,
   "metadata": {},
   "outputs": [],
   "source": [
    "import cv2\n",
    "from ultralytics import YOLO\n",
    "import supervision as sv"
   ]
  },
  {
   "cell_type": "code",
   "execution_count": 3,
   "metadata": {},
   "outputs": [],
   "source": [
    "cap = cv2.VideoCapture(0)\n",
    "cap.set(3, 1920)\n",
    "cap.ser(4, 1080)\n",
    "model = YOLO(\"./peoples-9/runs/detect/train34/weights/best.pt\")\n",
    "\n",
    "box_annotator = sv.BoxAnnotator(\n",
    "    thickness=2,\n",
    "    text_thickness=2,\n",
    "    text_scale=1\n",
    ")\n",
    "\n",
    "while True:\n",
    "    success, frame = cap.read()\n",
    "\n",
    "    result = model(frame)[0]\n",
    "    detections = sv.Detections.from_yolov8(result)\n",
    "\n",
    "    frame = box_annotator.annotate(scene=frame, detections=detections)\n",
    "    if success:\n",
    "        cv2.waitKey(1)\n",
    "        cv2.imshow(\"Result\", frame)"
   ]
  },
  {
   "cell_type": "code",
   "execution_count": null,
   "metadata": {},
   "outputs": [],
   "source": []
  }
 ],
 "metadata": {
  "kernelspec": {
   "display_name": "detectHuman",
   "language": "python",
   "name": "python3"
  },
  "language_info": {
   "codemirror_mode": {
    "name": "ipython",
    "version": 3
   },
   "file_extension": ".py",
   "mimetype": "text/x-python",
   "name": "python",
   "nbconvert_exporter": "python",
   "pygments_lexer": "ipython3",
   "version": "3.11.0"
  },
  "orig_nbformat": 4
 },
 "nbformat": 4,
 "nbformat_minor": 2
}
